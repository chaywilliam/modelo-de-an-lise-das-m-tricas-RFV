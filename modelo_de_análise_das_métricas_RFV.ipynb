{
  "nbformat": 4,
  "nbformat_minor": 0,
  "metadata": {
    "colab": {
      "private_outputs": true,
      "provenance": []
    },
    "kernelspec": {
      "name": "python3",
      "display_name": "Python 3"
    },
    "language_info": {
      "name": "python"
    }
  },
  "cells": [
    {
      "cell_type": "markdown",
      "source": [
        "**Análise Exploratória dos Dados**"
      ],
      "metadata": {
        "id": "Fhp5rbf5iU9R"
      }
    },
    {
      "cell_type": "code",
      "execution_count": null,
      "metadata": {
        "id": "KjLrd4sVWnfv"
      },
      "outputs": [],
      "source": [
        "#Importando as Bibliotecas Necessárias\n",
        "import pandas as pd\n",
        "import numpy as np\n",
        "import matplotlib.pyplot as plt\n",
        "import seaborn as sns\n",
        "\n",
        "# Para visualização de datas\n",
        "import datetime as dt\n",
        "\n",
        "# Para análise de clustering\n",
        "from sklearn.cluster import KMeans\n",
        "from sklearn.preprocessing import StandardScaler"
      ]
    },
    {
      "cell_type": "markdown",
      "source": [
        "Carregando os Dados"
      ],
      "metadata": {
        "id": "AK34dTLWjHP4"
      }
    },
    {
      "cell_type": "code",
      "source": [
        "df = pd.read_csv('/content/data.csv', encoding='CP1252')"
      ],
      "metadata": {
        "id": "cbOQEUQUjFQn"
      },
      "execution_count": null,
      "outputs": []
    },
    {
      "cell_type": "markdown",
      "source": [
        "Análise Exploratória Inicial"
      ],
      "metadata": {
        "id": "rKGEouT-j00g"
      }
    },
    {
      "cell_type": "code",
      "source": [
        "# Visualizando as primeiras linhas\n",
        "df.head(10)"
      ],
      "metadata": {
        "id": "dmdHK7Bei2LQ"
      },
      "execution_count": null,
      "outputs": []
    },
    {
      "cell_type": "code",
      "source": [
        "# Verificando os tipos de dados\n",
        "df.info()"
      ],
      "metadata": {
        "id": "4gBORV-QkBx_"
      },
      "execution_count": null,
      "outputs": []
    },
    {
      "cell_type": "code",
      "source": [
        "# Resumo estatístico\n",
        "df.describe()"
      ],
      "metadata": {
        "id": "OFWpfKnYkLHF"
      },
      "execution_count": null,
      "outputs": []
    },
    {
      "cell_type": "code",
      "source": [
        "# Verificando valores nulos\n",
        "df.isnull().sum()"
      ],
      "metadata": {
        "id": "Vjq6esDqkT3X"
      },
      "execution_count": null,
      "outputs": []
    },
    {
      "cell_type": "code",
      "source": [
        "#Analisando a distribuição das variáveis\n",
        "# Histogramas\n",
        "df.hist(figsize=(10, 8))\n",
        "plt.show()\n",
        "\n",
        "# Boxplots\n",
        "sns.boxplot(data=df[['Quantity', 'UnitPrice']])\n",
        "plt.show()"
      ],
      "metadata": {
        "id": "X4F3q4n-kepA"
      },
      "execution_count": null,
      "outputs": []
    },
    {
      "cell_type": "markdown",
      "source": [
        "**Analisando as Métricas RFV**"
      ],
      "metadata": {
        "id": "6wJs88nWmxKv"
      }
    },
    {
      "source": [
        "#Calculando as métricas\n",
        "# Certifique-se que 'InvoiceDate' seja do tipo datetime\n",
        "df['InvoiceDate'] = pd.to_datetime(df['InvoiceDate'])\n",
        "\n",
        "# Criando a coluna 'TotalPrice'\n",
        "if 'TotalPrice' not in df.columns:\n",
        "    df['TotalPrice'] = df['Quantity'] * df['UnitPrice']\n",
        "\n",
        "# Agrupar por CustomerID e calcular as métricas\n",
        "rfm = df.groupby('CustomerID').agg({\n",
        "    'InvoiceDate': lambda x: (df['InvoiceDate'].max() - x.max()).days,\n",
        "    'InvoiceNo': lambda x: len(x),\n",
        "    'TotalPrice': lambda x: x.sum()\n",
        "})\n",
        "\n",
        "rfm.rename(columns={\n",
        "    'InvoiceDate': 'Recency',\n",
        "    'InvoiceNo': 'Frequency',\n",
        "    'TotalPrice': 'Monetary'\n",
        "}, inplace=True)"
      ],
      "cell_type": "code",
      "metadata": {
        "id": "q0BcnduZmcd2"
      },
      "execution_count": null,
      "outputs": []
    },
    {
      "cell_type": "markdown",
      "source": [
        "Analisando a distribuição das métricas"
      ],
      "metadata": {
        "id": "PTVMwd1vnGtH"
      }
    },
    {
      "cell_type": "code",
      "source": [
        "# Histogramas para Recency, Frequency e Monetary\n",
        "sns.histplot(rfm['Recency'])\n",
        "sns.histplot(rfm['Frequency'])\n",
        "sns.histplot(rfm['Monetary'])\n",
        "plt.show()"
      ],
      "metadata": {
        "id": "_YoJwC-am9ZX"
      },
      "execution_count": null,
      "outputs": []
    },
    {
      "cell_type": "markdown",
      "source": [
        "**Pré-processamento dos Dados: Preparando os Dados para a Análise de Clustering**"
      ],
      "metadata": {
        "id": "lazVoDlBnuOH"
      }
    },
    {
      "cell_type": "code",
      "source": [
        "from sklearn.preprocessing import MinMaxScaler, StandardScaler, RobustScaler\n",
        "\n",
        "# Escolhendo o scaler (por exemplo, MinMaxScaler)\n",
        "scaler = MinMaxScaler()\n",
        "\n",
        "# Selecionando as features numéricas a serem normalizadas\n",
        "numeric_features = ['Recency', 'Frequency', 'Monetary']\n",
        "rfm_scaled = scaler.fit_transform(rfm[numeric_features])"
      ],
      "metadata": {
        "id": "8P3bfhaonLOP"
      },
      "execution_count": null,
      "outputs": []
    },
    {
      "cell_type": "markdown",
      "source": [
        "Seleção de Features"
      ],
      "metadata": {
        "id": "Ka9-T33boIzu"
      }
    },
    {
      "cell_type": "code",
      "source": [
        "# Calculando a matriz de correlação\n",
        "correlation_matrix = rfm.corr()\n",
        "sns.heatmap(correlation_matrix, annot=True)\n",
        "plt.show()"
      ],
      "metadata": {
        "id": "qkb48RK3nsS4"
      },
      "execution_count": null,
      "outputs": []
    },
    {
      "cell_type": "markdown",
      "source": [
        "**Escolha do Algoritmo de Clustering**"
      ],
      "metadata": {
        "id": "qTa3EQcEo0PW"
      }
    },
    {
      "cell_type": "code",
      "source": [
        "from sklearn.cluster import KMeans\n",
        "\n",
        "# Assumindo que rfm_scaled contém os dados normalizados\n",
        "kmeans = KMeans(n_clusters=3, random_state=42)  # Definindo 3 clusters\n",
        "kmeans.fit(rfm_scaled)"
      ],
      "metadata": {
        "id": "5i1efc29odAH"
      },
      "execution_count": null,
      "outputs": []
    },
    {
      "cell_type": "code",
      "source": [
        "# Obter os rótulos dos clusters\n",
        "labels = kmeans.labels_"
      ],
      "metadata": {
        "id": "AVJHmn6PpMBH"
      },
      "execution_count": null,
      "outputs": []
    },
    {
      "cell_type": "code",
      "source": [
        "# Adicionar os rótulos ao DataFrame original\n",
        "rfm['Cluster'] = labels"
      ],
      "metadata": {
        "id": "7L0HcF0RpVN1"
      },
      "execution_count": null,
      "outputs": []
    },
    {
      "cell_type": "markdown",
      "source": [
        "Analisar os clusters"
      ],
      "metadata": {
        "id": "95ZyKQefptBj"
      }
    },
    {
      "cell_type": "code",
      "source": [
        "# Visualizar os clusters\n",
        "sns.scatterplot(x='Recency', y='Monetary', hue='Cluster', data=rfm)\n",
        "plt.title('Clusters de Clientes')\n",
        "plt.show()"
      ],
      "metadata": {
        "id": "UxoxefxwpcrU"
      },
      "execution_count": null,
      "outputs": []
    },
    {
      "cell_type": "code",
      "source": [
        "# Calcular estatísticas descritivas para cada cluster\n",
        "rfm.groupby('Cluster').agg({'Recency': 'mean', 'Frequency': 'mean', 'Monetary': 'mean'})"
      ],
      "metadata": {
        "id": "csnn3Cm-pylc"
      },
      "execution_count": null,
      "outputs": []
    },
    {
      "cell_type": "markdown",
      "source": [
        "**Determinando o Número Ótimo de Clusters (K)**"
      ],
      "metadata": {
        "id": "qdlHWb3_rWeD"
      }
    },
    {
      "source": [
        "# Método do Cotovelo\n",
        "wcss = []\n",
        "for i in range(1, 11):\n",
        "    kmeans = KMeans(n_clusters=i, init='k-means++', random_state=42) # Indentado com 4 espaços\n",
        "    kmeans.fit(rfm_scaled) # Indentado com 4 espaços\n",
        "    wcss.append(kmeans.inertia_) # Indentado com 4 espaços\n",
        "\n",
        "plt.plot(range(1, 11), wcss)\n",
        "plt.title('Método do Cotovelo')\n",
        "plt.xlabel('Número de clusters')\n",
        "plt.ylabel('WCSS')  # Within-Cluster Sum of Squares\n",
        "plt.show()"
      ],
      "cell_type": "code",
      "metadata": {
        "id": "_7ZYrS5tqirl"
      },
      "execution_count": null,
      "outputs": []
    },
    {
      "cell_type": "code",
      "source": [
        "# Silhouette Score:\n",
        "from sklearn.metrics import silhouette_score\n",
        "\n",
        "silhouette_avg = silhouette_score(rfm_scaled, labels)\n",
        "print(\"Silhouette score:\", silhouette_avg)"
      ],
      "metadata": {
        "id": "Fdu3v6t_qPxE"
      },
      "execution_count": null,
      "outputs": []
    },
    {
      "cell_type": "markdown",
      "source": [
        "**Análise dos Clusters: Desvendando os Segmentos de Clientes**"
      ],
      "metadata": {
        "id": "RqKnXPFksBsa"
      }
    },
    {
      "cell_type": "markdown",
      "source": [
        "Descrição dos Clusters"
      ],
      "metadata": {
        "id": "2y6oIj1ksOok"
      }
    },
    {
      "cell_type": "code",
      "source": [
        "#Estatísticas Descritivas\n",
        "rfm.groupby('Cluster').agg({'Recency': ['mean', 'median'],\n",
        "                           'Frequency': ['mean', 'median'],\n",
        "                           'Monetary': ['mean', 'median', 'sum']})"
      ],
      "metadata": {
        "id": "f9-xK0Foqx6E"
      },
      "execution_count": null,
      "outputs": []
    },
    {
      "cell_type": "code",
      "source": [
        "# Boxplots\n",
        "sns.boxplot(x='Cluster', y='Monetary', data=rfm)\n",
        "plt.title('Comparação do Valor de Compra por Cluster')\n",
        "plt.show()"
      ],
      "metadata": {
        "id": "XjiKeJEpsTCc"
      },
      "execution_count": null,
      "outputs": []
    },
    {
      "cell_type": "code",
      "source": [
        "# Função para criar histogramas para cada variável em cada cluster\n",
        "def plot_histograms(df, numeric_columns, cluster_column='Cluster'):\n",
        "    for column in numeric_columns:\n",
        "        sns.histplot(data=df, x=column, hue=cluster_column, kde=True)\n",
        "        plt.title(f'Distribuição de {column} por Cluster')\n",
        "        plt.show()\n",
        "\n",
        "# Exemplo de uso:\n",
        "numeric_columns = ['Recency', 'Frequency', 'Monetary']\n",
        "plot_histograms(rfm, numeric_columns)"
      ],
      "metadata": {
        "id": "gA2g-eXmtgWq"
      },
      "execution_count": null,
      "outputs": []
    },
    {
      "cell_type": "code",
      "source": [
        "#Gráficos de Barras\n",
        "# Contando a quantidade de clientes em cada cluster\n",
        "cluster_counts = rfm['Cluster'].value_counts()\n",
        "\n",
        "# Criando o gráfico de barras\n",
        "sns.countplot(x='Cluster', data=rfm)\n",
        "plt.title('Distribuição dos Clientes por Cluster')\n",
        "plt.ylabel('Número de Clientes')\n",
        "plt.show()"
      ],
      "metadata": {
        "id": "cEreHzB1uRZs"
      },
      "execution_count": null,
      "outputs": []
    },
    {
      "cell_type": "markdown",
      "source": [
        "**Insights e Recomendações Baseadas nos Clusters**\n",
        "\n",
        "\n",
        "**Cluster 0: Os Fiéis:** Clientes com alta frequência de compra e alto valor médio por pedido.\n",
        "\n",
        "**Cluster 1: Os Ocasionais:** Clientes com baixa frequência de compra e valor médio por pedido moderado.\n",
        "\n",
        "**Cluster 2:** Os Exploradores: Clientes com alta frequência de compra, mas baixo valor médio por pedido.\n",
        "\n",
        "**Recomendações:**\n",
        "\n",
        "**Cluster 0: Os Fiéis:**\n",
        "**Programas de Fidelidade:** Crie um programa de pontos ou benefícios exclusivos para recompensar a lealdade desses clientes.\n",
        "**Produtos Personalizados:** Ofereça produtos ou serviços personalizados com base no histórico de compras.\n",
        "Comunicação Exclusiva: Envie comunicados e promoções personalizadas para este grupo.\n",
        "\n",
        "**Cluster 1: Os Ocasionais:**\n",
        "**Campanhas de Reaproximação:** Utilize e-mails, SMS ou notificações push para lembrar esses clientes da marca e oferecer promoções especiais.\n",
        "**Análise de Carrinho Abandonado:** Identifique os motivos pelos quais esses clientes abandonam o carrinho e ofereça incentivos para finalizar a compra.\n",
        "Produtos Complementares: Sugira produtos complementares aos que o cliente já adquiriu.\n",
        "\n",
        "**Cluster 2: Os Exploradores:**\n",
        "**Produtos em Destaque:** Destaque produtos com maior margem de lucro ou novos lançamentos.\n",
        "Kits e Pacotes: Crie kits ou pacotes com produtos complementares para aumentar o valor médio do pedido.\n",
        "**Programas de Referência:** Incentive esses clientes a indicarem a marca para seus amigos e familiares.\n",
        "\n",
        "**Outras Recomendações Gerais:**\n",
        "**Segmentação de Marketing:** Utilize os clusters para criar campanhas de marketing mais direcionadas e personalizadas.\n",
        "\n",
        "**Gerenciamento de Estoque:** Ajuste o estoque de acordo com a demanda de cada cluster.\n",
        "\n",
        "**Desenvolvimento de Produtos:** Crie novos produtos ou serviços que atendam às necessidades específicas de cada cluster.\n",
        "\n",
        "**Atendimento ao Cliente:** Ofereça um atendimento personalizado para cada cluster, com foco nas suas necessidades e expectativas.\n",
        "\n",
        "**Como Implementar as Recomendações:**\n",
        "**Ferramentas de CRM:** Utilize um sistema de CRM para armazenar as informações dos clientes e personalizar as ações de marketing.\n",
        "\n",
        "**Plataformas de E-mail Marketing:** Envie e-mails segmentados com base nos clusters.\n",
        "\n",
        "**Análise Web:** Utilize ferramentas de análise web para acompanhar o comportamento dos clientes em seu site e aplicativo.\n",
        "\n",
        "**Testes A/B:** Faça testes A/B para comparar diferentes abordagens e identificar o que funciona melhor para cada cluster."
      ],
      "metadata": {
        "id": "FL0WFv4xvbIb"
      }
    }
  ]
}